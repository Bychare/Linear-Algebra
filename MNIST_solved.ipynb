{
 "cells": [
  {
   "cell_type": "markdown",
   "metadata": {
    "id": "zJlE7LgVBmUY",
    "nbgrader": {
     "grade": false,
     "grade_id": "cell-85b42325683cce03",
     "locked": true,
     "schema_version": 3,
     "solution": false,
     "task": false
    }
   },
   "source": [
    "# Welcome to the final project!\n",
    "In this notebook you will be asked to use singular value decomposition and SVM to classify images. We will be working with the MNIST numbers dataset, where training data consist of pictures of digits, and the target value is the digit itself."
   ]
  },
  {
   "cell_type": "markdown",
   "metadata": {
    "id": "yXwgZx4zNbRZ",
    "nbgrader": {
     "grade": false,
     "grade_id": "cell-aaabae287f8e07b9",
     "locked": true,
     "schema_version": 3,
     "solution": false,
     "task": false
    }
   },
   "source": [
    "First, we import the necessary libraries."
   ]
  },
  {
   "cell_type": "code",
   "execution_count": 1,
   "metadata": {
    "id": "kMBwuxiCBmUf"
   },
   "outputs": [],
   "source": [
    "import numpy as np\n",
    "from numpy.linalg import svd\n",
    "import matplotlib.pyplot as plt\n",
    "from sklearn.decomposition import PCA\n",
    "from sklearn.svm import LinearSVC\n",
    "from sklearn.metrics import accuracy_score\n",
    "from sklearn.preprocessing import StandardScaler"
   ]
  },
  {
   "cell_type": "markdown",
   "metadata": {
    "id": "mK1-_FSWUBA1"
   },
   "source": [
    "Now, we read both training and test dataset as arrays. "
   ]
  },
  {
   "cell_type": "code",
   "execution_count": 2,
   "metadata": {
    "id": "fg9JsZ70BmUa",
    "scrolled": true
   },
   "outputs": [],
   "source": [
    "data = np.load('mnist.npz')\n",
    "X_test_total, X_train_total, y_train_total, y_test_total = data['x_test'], data['x_train'], data['y_train'], data['y_test']"
   ]
  },
  {
   "cell_type": "markdown",
   "metadata": {
    "id": "M-GsL4osovz3"
   },
   "source": [
    "Let's select two digits that we will be learning to separate, for example 3 and 8."
   ]
  },
  {
   "cell_type": "code",
   "execution_count": 3,
   "metadata": {
    "id": "oWgDAtcnpA7a"
   },
   "outputs": [],
   "source": [
    "num1, num2 = 3, 8"
   ]
  },
  {
   "cell_type": "markdown",
   "metadata": {
    "id": "0qr-a0lnLCSH"
   },
   "source": [
    "Let us form the lists of indices i such that the target of i-th object of our training data is either num1 or num2. Do the same for the test dataset."
   ]
  },
  {
   "cell_type": "code",
   "execution_count": 4,
   "metadata": {
    "id": "35Zf01xgpsHq"
   },
   "outputs": [],
   "source": [
    "train_indx = [y == num1 or y == num2 for y in y_train_total] \n",
    "test_indx = [y == num1 or y == num2 for y in y_test_total]"
   ]
  },
  {
   "cell_type": "markdown",
   "metadata": {
    "id": "CJwF_Ux9LBVK"
   },
   "source": [
    "Form new arrays consisting of the data with the target values num1 and num2 only. "
   ]
  },
  {
   "cell_type": "code",
   "execution_count": 5,
   "metadata": {
    "id": "NJuZq_jdooq2"
   },
   "outputs": [],
   "source": [
    "X_train, y_train = X_train_total[train_indx], y_train_total[train_indx]\n",
    "X_test, y_test = X_test_total[test_indx], y_test_total[test_indx]# your code here"
   ]
  },
  {
   "cell_type": "markdown",
   "metadata": {
    "id": "OU0lGhGNBmUl"
   },
   "source": [
    "## Looking at the data"
   ]
  },
  {
   "cell_type": "markdown",
   "metadata": {
    "id": "49qpdwwBNmcO"
   },
   "source": [
    "Let us check the sizes of the datasets and the shape of one image."
   ]
  },
  {
   "cell_type": "code",
   "execution_count": 6,
   "metadata": {
    "colab": {
     "base_uri": "https://localhost:8080/"
    },
    "id": "hVKvbThsBmUn",
    "outputId": "e2a6e267-26b4-4455-de94-2c4a0c87facd"
   },
   "outputs": [
    {
     "name": "stdout",
     "output_type": "stream",
     "text": [
      "Data shapes: \n",
      "X_train:  (11982, 28, 28)\n",
      "y_train:  (11982,)\n",
      "X_test:  (1984, 28, 28)\n",
      "y_test:  (1984,)\n"
     ]
    }
   ],
   "source": [
    "print('Data shapes: ')\n",
    "print('X_train: ', X_train.shape)\n",
    "print('y_train: ', y_train.shape)\n",
    "print('X_test: ', X_test.shape)\n",
    "print('y_test: ', y_test.shape)"
   ]
  },
  {
   "cell_type": "code",
   "execution_count": 7,
   "metadata": {
    "colab": {
     "base_uri": "https://localhost:8080/"
    },
    "id": "P1EklRAaBmUr",
    "outputId": "ecf50bfe-5869-42cd-c9e0-70d245994c67"
   },
   "outputs": [
    {
     "data": {
      "text/plain": [
       "(11982, 1984)"
      ]
     },
     "execution_count": 7,
     "metadata": {},
     "output_type": "execute_result"
    }
   ],
   "source": [
    "n_train = X_train.shape[0]\n",
    "n_test = X_test.shape[0]\n",
    "\n",
    "n_train, n_test"
   ]
  },
  {
   "cell_type": "code",
   "execution_count": 8,
   "metadata": {
    "colab": {
     "base_uri": "https://localhost:8080/"
    },
    "id": "FZmNEYdDBmUv",
    "outputId": "fa96477b-db5b-487a-85f7-f40ef8e92c2d"
   },
   "outputs": [
    {
     "name": "stdout",
     "output_type": "stream",
     "text": [
      "Shape of one item: \n",
      "(28, 28)\n"
     ]
    }
   ],
   "source": [
    "print('Shape of one item: ')\n",
    "print(X_train[0].shape)"
   ]
  },
  {
   "cell_type": "markdown",
   "metadata": {
    "id": "ERvQjZU5BmU0"
   },
   "source": [
    "Train data are images of digits."
   ]
  },
  {
   "cell_type": "code",
   "execution_count": 9,
   "metadata": {
    "colab": {
     "base_uri": "https://localhost:8080/",
     "height": 441
    },
    "id": "lWsCw2hQBmU0",
    "outputId": "cb0e94f6-d132-4043-c0ce-c76095991bb1"
   },
   "outputs": [
    {
     "data": {
      "image/png": "[encoded data removed]",
      "text/plain": [
       "<Figure size 432x432 with 9 Axes>"
      ]
     },
     "metadata": {
      "needs_background": "light"
     },
     "output_type": "display_data"
    }
   ],
   "source": [
    "plt.figure(figsize=(6,6))\n",
    "a, b = 3, 3\n",
    "for i in range(a*b):  \n",
    "    plt.subplot(b, a, i+1)\n",
    "    plt.imshow(X_train[i], cmap='gray')\n",
    "plt.tight_layout()\n",
    "plt.show()"
   ]
  },
  {
   "cell_type": "markdown",
   "metadata": {
    "id": "mt2hv7PSBmU4"
   },
   "source": [
    "Target values are numbers."
   ]
  },
  {
   "cell_type": "code",
   "execution_count": 10,
   "metadata": {
    "colab": {
     "base_uri": "https://localhost:8080/"
    },
    "id": "3ZHMwxyHBmU5",
    "outputId": "a664f587-74d2-4dd3-dbd1-f95b0c6ff544"
   },
   "outputs": [
    {
     "data": {
      "text/plain": [
       "array([3, 3, 3, 8, 3, 3, 8, 8, 3], dtype=uint8)"
      ]
     },
     "execution_count": 10,
     "metadata": {},
     "output_type": "execute_result"
    }
   ],
   "source": [
    "y_train[:9]"
   ]
  },
  {
   "cell_type": "markdown",
   "metadata": {
    "id": "qynX76dNt1NU"
   },
   "source": [
    "## Task 1 (1 point)\n",
    "Now our data is 3-dimensional of shape (number of images, n_pixels, n_pixels). To work with PCA and SVM we need to flatten the images by turning each of them into an array of shape (n_pixels x n_pixels, )."
   ]
  },
  {
   "cell_type": "code",
   "execution_count": 11,
   "metadata": {
    "id": "WD9ThdCMBmVG"
   },
   "outputs": [],
   "source": [
    "def flatten_image(X):\n",
    "    return X.reshape(X.shape[0] * X.shape[1])"
   ]
  },
  {
   "cell_type": "code",
   "execution_count": 12,
   "metadata": {
    "colab": {
     "base_uri": "https://localhost:8080/"
    },
    "id": "AWAJJfmDBmVK",
    "outputId": "456ed9c9-77e3-46b1-d752-59a376bf5a34"
   },
   "outputs": [
    {
     "data": {
      "text/plain": [
       "((1984, 784), (1984, 784))"
      ]
     },
     "execution_count": 12,
     "metadata": {},
     "output_type": "execute_result"
    }
   ],
   "source": [
    "X_train_flat = np.array([flatten_image(img) for img in X_train])\n",
    "X_test_flat = np.array([flatten_image(img) for img in X_test])\n",
    "\n",
    "X_test_flat.shape, X_test_flat.shape"
   ]
  },
  {
   "cell_type": "markdown",
   "metadata": {
    "id": "3BIAKuWGukeC"
   },
   "source": [
    "PCA works best when the data is scaled (think, why?), so let's scale our data. We will use [StandartScaler](https://scikit-learn.org/stable/modules/generated/sklearn.preprocessing.StandardScaler.html) for it. Note, that scaling replaces a collection of vectors x by the collection of the vectors $x' = (x-M)/D$, where $M$ is the mean vector of\n",
    "the sample, $D$ is the vector of standard deviations of all components of the vectors, and the division is component-wise. So, the scaled collection has the same size as the original one, and each column has 0 mean and unit standard deviation.\n"
   ]
  },
  {
   "cell_type": "code",
   "execution_count": 13,
   "metadata": {
    "id": "AK1W8FecV9KZ"
   },
   "outputs": [],
   "source": [
    "scaler = StandardScaler()\n",
    "X_train_flat = scaler.fit_transform(X_train_flat)\n",
    "X_test_flat = scaler.transform(X_test_flat)"
   ]
  },
  {
   "cell_type": "markdown",
   "metadata": {
    "id": "B87KzPdjUBA-"
   },
   "source": [
    "## Question 1"
   ]
  },
  {
   "cell_type": "markdown",
   "metadata": {
    "id": "aW4UQRSmlCg5"
   },
   "source": [
    "Please write your answer on the impact of scaling below. Why does scaling help PCA? If your idea need some computer experiments for confirmation (say, training and accuracy calculations  with non-scaled data), please provide the code here as well."
   ]
  },
  {
   "cell_type": "markdown",
   "metadata": {
    "id": "EzU4FS2X76e9"
   },
   "source": [
    "*** Scaling helps PCA by transforming the data so that all features have the same magnitude. This ensures that no single feature dominates the results, and the principal components represent the underlying structure of the data more accurately. By having features with the same magnitude, it allows the PCA to accurately identify the underlying structure in the data and prevent any one feature from having more influence over the results. Scaling is important in PCA as it ensures that the results are not biased towards features with higher magnitude.***\n",
    "\n"
   ]
  },
  {
   "cell_type": "code",
   "execution_count": 14,
   "metadata": {
    "colab": {
     "base_uri": "https://localhost:8080/"
    },
    "id": "vlCJN_Pqlb4C",
    "outputId": "c30a1844-29a0-4dfd-f303-00724d6a811a"
   },
   "outputs": [
    {
     "name": "stderr",
     "output_type": "stream",
     "text": [
      "C:\\Users\\paris\\anaconda3\\lib\\site-packages\\sklearn\\svm\\_base.py:985: ConvergenceWarning: Liblinear failed to converge, increase the number of iterations.\n",
      "  warnings.warn(\"Liblinear failed to converge, increase \"\n"
     ]
    },
    {
     "name": "stdout",
     "output_type": "stream",
     "text": [
      "Accuracy without scaling:  0.8694556451612904\n",
      "Accuracy with scaling:  0.8694556451612904\n"
     ]
    },
    {
     "name": "stderr",
     "output_type": "stream",
     "text": [
      "C:\\Users\\paris\\anaconda3\\lib\\site-packages\\sklearn\\svm\\_base.py:985: ConvergenceWarning: Liblinear failed to converge, increase the number of iterations.\n",
      "  warnings.warn(\"Liblinear failed to converge, increase \"\n"
     ]
    }
   ],
   "source": [
    "# Non-scaled data\n",
    "pca = PCA(n_components=2)\n",
    "X_train_pca = pca.fit_transform(X_train_flat)\n",
    "X_test_pca = pca.transform(X_test_flat)\n",
    "\n",
    "clf = LinearSVC()\n",
    "clf.fit(X_train_pca, y_train)\n",
    "y_pred = clf.predict(X_test_pca)\n",
    "accuracy_non_scaled = accuracy_score(y_test, y_pred)\n",
    "\n",
    "# Scaled data\n",
    "scaler = StandardScaler()\n",
    "X_train_flat_scaled = scaler.fit_transform(X_train_flat)\n",
    "X_test_flat_scaled = scaler.transform(X_test_flat)\n",
    "\n",
    "pca = PCA(n_components=2)\n",
    "X_train_pca_scaled = pca.fit_transform(X_train_flat_scaled)\n",
    "X_test_pca_scaled = pca.transform(X_test_flat_scaled)\n",
    "\n",
    "clf = LinearSVC()\n",
    "clf.fit(X_train_pca_scaled, y_train)\n",
    "y_pred_scaled = clf.predict(X_test_pca_scaled)\n",
    "accuracy_scaled = accuracy_score(y_test, y_pred_scaled)\n",
    "\n",
    "print(\"Accuracy without scaling: \", accuracy_non_scaled)\n",
    "print(\"Accuracy with scaling: \", accuracy_scaled)\n"
   ]
  },
  {
   "cell_type": "markdown",
   "metadata": {
    "id": "MPYv0JqzQRKA"
   },
   "source": [
    "Now, we call PCA and reduce the number of components for each vector. "
   ]
  },
  {
   "cell_type": "code",
   "execution_count": 15,
   "metadata": {
    "id": "H6s30_saBmVO"
   },
   "outputs": [],
   "source": [
    "pca = PCA(n_components=128, random_state=42)\n",
    "X_train_flat = pca.fit_transform(X_train_flat)"
   ]
  },
  {
   "cell_type": "code",
   "execution_count": 16,
   "metadata": {
    "id": "bKRDnygcBmVS"
   },
   "outputs": [],
   "source": [
    "X_test_flat = pca.transform(X_test_flat)"
   ]
  },
  {
   "cell_type": "code",
   "execution_count": 17,
   "metadata": {
    "colab": {
     "base_uri": "https://localhost:8080/"
    },
    "id": "MIkIzz4ACjP5",
    "outputId": "bc7c75c7-f1a3-4985-d193-174858f2cf0d"
   },
   "outputs": [
    {
     "data": {
      "text/plain": [
       "((1984, 128), (1984, 128))"
      ]
     },
     "execution_count": 17,
     "metadata": {},
     "output_type": "execute_result"
    }
   ],
   "source": [
    "X_test_flat.shape, X_test_flat.shape"
   ]
  },
  {
   "cell_type": "markdown",
   "metadata": {
    "id": "IDA0QfwOUBA_"
   },
   "source": [
    "## Question 2"
   ]
  },
  {
   "cell_type": "markdown",
   "metadata": {
    "id": "s-g0gIUdV6a4"
   },
   "source": [
    "What is the ratio of the memory used for the data `compressed' by PCA and the one used for the original data?"
   ]
  },
  {
   "cell_type": "markdown",
   "metadata": {
    "id": "BRQh-WSPUBBA"
   },
   "source": [
    "*** The memory used for the compressed data by PCA is typically much lower than the memory used for the original data. The exact ratio depends on the desired level of compression, but it can be significantly lower, e.g. 1/10 or less. This is because PCA reduces the dimensionality of the data by retaining the most important information (principal components) and discarding the redundant information..***"
   ]
  },
  {
   "cell_type": "markdown",
   "metadata": {
    "id": "tExdDvxVQb-8"
   },
   "source": [
    "Now, we use SVM with linear kernel to separate the two classes."
   ]
  },
  {
   "cell_type": "code",
   "execution_count": 18,
   "metadata": {
    "colab": {
     "base_uri": "https://localhost:8080/"
    },
    "id": "msj7fbHnBmVW",
    "outputId": "4b2e8c8a-10cd-439b-9474-c24d27bc5642"
   },
   "outputs": [
    {
     "name": "stdout",
     "output_type": "stream",
     "text": [
      "Wall time: 4.42 s\n"
     ]
    },
    {
     "name": "stderr",
     "output_type": "stream",
     "text": [
      "C:\\Users\\paris\\anaconda3\\lib\\site-packages\\sklearn\\svm\\_base.py:985: ConvergenceWarning: Liblinear failed to converge, increase the number of iterations.\n",
      "  warnings.warn(\"Liblinear failed to converge, increase \"\n"
     ]
    },
    {
     "data": {
      "text/plain": [
       "LinearSVC(random_state=42)"
      ]
     },
     "execution_count": 18,
     "metadata": {},
     "output_type": "execute_result"
    }
   ],
   "source": [
    "%%time\n",
    "clf = LinearSVC(random_state=42)\n",
    "clf.fit(X_train_flat, y_train) "
   ]
  },
  {
   "cell_type": "markdown",
   "metadata": {
    "id": "UiQicIFIQMf3"
   },
   "source": [
    "Now, let us make the predictions and calculate the accuracy, that is, the ratio of the true predictions to the test sample size.  Use [accuracy score](https://scikit-learn.org/stable/modules/generated/sklearn.metrics.accuracy_score.html#sklearn.metrics.accuracy_score) as the quality metric here.\n",
    "\n",
    "$$accuracy(y\\_true, y\\_pred) = \\frac{1}{n}\\sum_{i=1}^n [y\\_true_i=y\\_pred_i],$$ where $[a=b]=1$, if $a=b$, and $0$ otherwise."
   ]
  },
  {
   "cell_type": "code",
   "execution_count": 19,
   "metadata": {
    "colab": {
     "base_uri": "https://localhost:8080/"
    },
    "id": "IWC3hQAMCcPe",
    "outputId": "8a7a45b5-2ffe-405e-a24e-8669a9bb38bd"
   },
   "outputs": [
    {
     "name": "stdout",
     "output_type": "stream",
     "text": [
      "Test accuracy:  0.9667338709677419\n"
     ]
    }
   ],
   "source": [
    "y_pred = clf.predict(X_test_flat)\n",
    "acc = accuracy_score(y_test, y_pred)\n",
    "print(\"Test accuracy: \", acc)"
   ]
  },
  {
   "cell_type": "markdown",
   "metadata": {
    "id": "s4fOnPmPBmWr"
   },
   "source": [
    "## Try it from your own input\n",
    "Try to make your own dataset. You can either make a photo image of an ink-written digit or draw a digit using a graphical editor of your computer or smartphone. Note that the input picture has to be a white number on a black background, like the numbers in the MNIST dataset. It can be either in png or jpeg format. Replace the sample striwith your file name. "
   ]
  },
  {
   "cell_type": "code",
   "execution_count": 20,
   "metadata": {
    "id": "GZSU-t3QBmWs"
   },
   "outputs": [],
   "source": [
    "from scipy import misc\n",
    "from PIL import Image"
   ]
  },
  {
   "cell_type": "code",
   "execution_count": 21,
   "metadata": {
    "colab": {
     "base_uri": "https://localhost:8080/"
    },
    "id": "uqDp92KzBmWv",
    "outputId": "77a78f14-44ae-4336-bb87-83c4fb0b28e0"
   },
   "outputs": [
    {
     "data": {
      "text/plain": [
       "(28, 28)"
      ]
     },
     "execution_count": 21,
     "metadata": {},
     "output_type": "execute_result"
    }
   ],
   "source": [
    "image = Image.open('first.png').convert('L')\n",
    "new_image = image.resize((28, 28))\n",
    "custom = np.array(new_image)\n",
    "custom.shape"
   ]
  },
  {
   "cell_type": "code",
   "execution_count": 22,
   "metadata": {
    "colab": {
     "base_uri": "https://localhost:8080/",
     "height": 265
    },
    "id": "pYBKXyglBmWz",
    "outputId": "505dc697-8676-40f9-b697-d5cd08caa954"
   },
   "outputs": [
    {
     "data": {
      "image/png": "[encoded data removed]",
      "text/plain": [
       "<Figure size 432x288 with 1 Axes>"
      ]
     },
     "metadata": {
      "needs_background": "light"
     },
     "output_type": "display_data"
    }
   ],
   "source": [
    "plt.imshow(custom, cmap='gray')\n",
    "plt.show()"
   ]
  },
  {
   "cell_type": "markdown",
   "metadata": {
    "id": "qyBWzpsCSJjj"
   },
   "source": [
    "Re-shape your image and make a prediction. "
   ]
  },
  {
   "cell_type": "code",
   "execution_count": 23,
   "metadata": {
    "colab": {
     "base_uri": "https://localhost:8080/"
    },
    "id": "bKy0FPyJ4dg2",
    "outputId": "40727f39-c734-4190-f572-632b6f20e05a"
   },
   "outputs": [
    {
     "data": {
      "text/plain": [
       "(1, 128)"
      ]
     },
     "execution_count": 23,
     "metadata": {},
     "output_type": "execute_result"
    }
   ],
   "source": [
    "custom = flatten_image(custom).reshape(1, -1)\n",
    "custom = scaler.transform(custom)\n",
    "custom = pca.transform(custom)\n",
    "custom.shape"
   ]
  },
  {
   "cell_type": "code",
   "execution_count": 24,
   "metadata": {
    "colab": {
     "base_uri": "https://localhost:8080/"
    },
    "id": "80S853_6BmW3",
    "outputId": "4ddb736d-4291-4c11-bba6-5c8977cfe939"
   },
   "outputs": [
    {
     "data": {
      "text/plain": [
       "array([3], dtype=uint8)"
      ]
     },
     "execution_count": 24,
     "metadata": {},
     "output_type": "execute_result"
    }
   ],
   "source": [
    "clf.predict(custom)"
   ]
  },
  {
   "cell_type": "markdown",
   "metadata": {
    "id": "pbtAttZ8UBBC"
   },
   "source": [
    "## Question 3"
   ]
  },
  {
   "cell_type": "markdown",
   "metadata": {
    "id": "PTwHX91JSUL3"
   },
   "source": [
    "Repeat the above digit recognition procedure with other 5 to 10 hand-written images. Do your experiments confirm the above accuracy estimate? How do you think, why they confirm (or not confirm) it?"
   ]
  },
  {
   "cell_type": "markdown",
   "metadata": {
    "id": "Bn8dlIrY7NWe"
   },
   "source": [
    "***It confirms in 2/4 cases.***"
   ]
  },
  {
   "cell_type": "markdown",
   "metadata": {
    "id": "OTa1546Jx2J5"
   },
   "source": [
    "## Task 2\n",
    "Now let's try another approach explained [here](https://intranet.math.vt.edu/ugresearch/Lassiter_2012_2013.pdf) in Section 3. For each digit, we create a new matrix $A$ whose columns are flattened images of this digit. The first several (say, 10) columns of the matrix $U$ from SVD decomposition of $A$ represent a collection of \"typical\" images of this digit. Given an unrecognized flatten image, among average typical flattened images we find the closets one. Its target value is considered as a prediction for the target of the unrecognized image."
   ]
  },
  {
   "cell_type": "markdown",
   "metadata": {
    "id": "JTvWQCV8K9qm"
   },
   "source": [
    "## SVD refesher\n",
    "As you may recall from the lectures, SVD of a matrix $A$ is a decomposition:\n",
    "$A = U \\Sigma V^T,$ where $U$ and $V$ are orthogonal matrices. In this method we will be utilizing some properties of SVD."
   ]
  },
  {
   "cell_type": "code",
   "execution_count": 25,
   "metadata": {
    "id": "DA9S5BxlimJy"
   },
   "outputs": [],
   "source": [
    "def getSingularVectorsLeft(matrix, number=10):\n",
    "    U, s, VT = np.linalg.svd(matrix, full_matrices=False)\n",
    "    return U[:, :number]"
   ]
  },
  {
   "cell_type": "code",
   "execution_count": 26,
   "metadata": {
    "id": "TXlw7pLMYYNB"
   },
   "outputs": [],
   "source": [
    "def getSingularImage(X_train, y_train, number):\n",
    "    select_images = X_train[y_train == number]\n",
    "    A = select_images[0].reshape(-1, 1) # Initialize matrix A with first selected image\n",
    "    \n",
    "    for i in range(1, select_images.shape[0]): # Iteratively append new column to form matrix A\n",
    "        A = np.hstack((A, select_images[i].reshape(-1, 1)))\n",
    "    \n",
    "    U, _, _ = np.linalg.svd(A, full_matrices=False) # Perform SVD decomposition\n",
    "    left_basis = U[:, :10] # Get first 10 columns of U\n",
    "    \n",
    "    return left_basis\n"
   ]
  },
  {
   "cell_type": "markdown",
   "metadata": {
    "id": "xUaaUCTNx9ea"
   },
   "source": [
    "Try it first on \"0\"."
   ]
  },
  {
   "cell_type": "code",
   "execution_count": 27,
   "metadata": {
    "id": "CPx60DlKaQ8S"
   },
   "outputs": [],
   "source": [
    "left_basis = getSingularImage(X_train_total, y_train_total, 0)\n",
    "\n",
    "assert left_basis.shape == (784, 10)"
   ]
  },
  {
   "cell_type": "markdown",
   "metadata": {
    "id": "qeAC9vo8xnMK"
   },
   "source": [
    "### Task 2.1 (1 point)\n",
    "Plot first 9 singular images of the digit 0 taking columns of matrix U and reshaping them back into images 28x28. Use `numpy.reshape`."
   ]
  },
  {
   "cell_type": "code",
   "execution_count": 28,
   "metadata": {
    "colab": {
     "base_uri": "https://localhost:8080/",
     "height": 441
    },
    "id": "VyJGHMhUtBpT",
    "outputId": "96b761eb-ca34-433c-9485-b2a370260a9e"
   },
   "outputs": [
    {
     "data": {
      "image/png": "[encoded data removed]",
      "text/plain": [
       "<Figure size 432x432 with 9 Axes>"
      ]
     },
     "metadata": {
      "needs_background": "light"
     },
     "output_type": "display_data"
    }
   ],
   "source": [
    "#singular images\n",
    "plt.figure(figsize=(6,6))\n",
    "a, b = 3, 3\n",
    "for i in range(a*b):  \n",
    "    plt.subplot(b, a, i+1)\n",
    "    img = left_basis[:, i].reshape(28, 28)\n",
    "    plt.imshow(img, cmap='gray')\n",
    "\n",
    "plt.tight_layout()\n",
    "plt.show()\n"
   ]
  },
  {
   "cell_type": "markdown",
   "metadata": {
    "id": "JfXuzcQ5UBBE"
   },
   "source": [
    "## Question 4"
   ]
  },
  {
   "cell_type": "markdown",
   "metadata": {
    "id": "24b4QGOI7Vmh"
   },
   "source": [
    "Reflect on properties of the columns of $U_k$. What properties do you think are contained in each of them? Draw more singular images to help you make conclusions."
   ]
  },
  {
   "cell_type": "markdown",
   "metadata": {
    "id": "Gst9OJUY7nMa"
   },
   "source": [
    "***The columns of $U_k$ represent the \"typical\" images of the target digit $k$. These columns are the orthogonal basis that spans the subspace of images with target $k$. Each column can be thought of as a singular image, which summarizes some of the most important features or patterns of the target digit. By analyzing the columns of $U_k$, one can gain insight into what makes an image belong to the target digit..***"
   ]
  },
  {
   "cell_type": "markdown",
   "metadata": {
    "id": "cDFZgAv4yLLO"
   },
   "source": [
    "Now let's move on and obtain singular images for all numbers. The matrices $U_k$ from  [the article](https://intranet.math.vt.edu/ugresearch/Lassiter_2012_2013.pdf) are represented as `number_basis_matrices[k]`.\n",
    "This might take a while to finish, feel free to add debug print in your function to know the progress."
   ]
  },
  {
   "cell_type": "code",
   "execution_count": null,
   "metadata": {
    "id": "np3OMUg9hX4L"
   },
   "outputs": [],
   "source": [
    "number_basis_matrices = [getSingularImage(X_train_total, y_train_total, k) for k in range(10)]# use getSingularImage funciton to get matrices for all numbers"
   ]
  },
  {
   "cell_type": "markdown",
   "metadata": {
    "id": "3lSYWDSzyZjQ"
   },
   "source": [
    "### Task 2.2 (1 point)\n",
    "Plot the first singular image of each digit, similarly to the previous task."
   ]
  },
  {
   "cell_type": "code",
   "execution_count": null,
   "metadata": {
    "colab": {
     "base_uri": "https://localhost:8080/",
     "height": 441
    },
    "id": "2-TS33OpwHVN",
    "outputId": "6169107d-39fd-409f-f292-12f144876500"
   },
   "outputs": [],
   "source": [
    "plt.figure(figsize=(6,6))\n",
    "a, b = 3, 4\n",
    "for i in range(10):  \n",
    "    plt.subplot(b, a, i+1)\n",
    "    img = number_basis_matrices[i][:, 0].reshape(28, 28)\n",
    "    plt.imshow(img, cmap='gray')\n",
    "\n",
    "plt.tight_layout()\n",
    "plt.show()"
   ]
  },
  {
   "cell_type": "code",
   "execution_count": null,
   "metadata": {
    "id": "cKlHDULozHr1"
   },
   "outputs": [],
   "source": [
    "dim = number_basis_matrices[0].shape[0]"
   ]
  },
  {
   "cell_type": "markdown",
   "metadata": {
    "id": "T5XFjCNS8wKt"
   },
   "source": [
    "### Task 2.3 (1.5 points)"
   ]
  },
  {
   "cell_type": "markdown",
   "metadata": {
    "id": "g4u-9qERyjR-"
   },
   "source": [
    "Here we calculate the new projection matrix for each $U_k$ to apply later in testing:\n",
    "$pr = (I - U_k \\cdot U_{k}^{T})$. Use `numpy.matmul` for matrix multiplication and `numpy.identity` to create an identity matrix. Please note that this operation might also take some time to finish."
   ]
  },
  {
   "cell_type": "code",
   "execution_count": null,
   "metadata": {
    "id": "_QP7drrelSUz"
   },
   "outputs": [],
   "source": [
    "def getProjectionMatrix(U):\n",
    "  I = np.identity(U.shape[0])\n",
    "  Ut = U.T\n",
    "  pr = I - np.matmul(U, Ut)\n",
    "  return pr\n",
    "\n",
    "numeric_values = [getProjectionMatrix(number_basis_matrices[i]) for i in range(10)]"
   ]
  },
  {
   "cell_type": "markdown",
   "metadata": {
    "id": "BB_nJGgMzTns"
   },
   "source": [
    "### Task 2.4 (1.5 points)\n",
    "Implement function utilizing `numeric_values` matrices to predict labels for unknown images. Use `numpy.norm` and enumerate to iterate over numeric values."
   ]
  },
  {
   "cell_type": "code",
   "execution_count": null,
   "metadata": {
    "colab": {
     "base_uri": "https://localhost:8080/"
    },
    "id": "6XiHBQuCiKFA",
    "outputId": "32a6c04a-b5c1-4577-b217-01ca2f8b13fe"
   },
   "outputs": [],
   "source": [
    "def find_closest(test_value, numeric_values):\n",
    "  stacked_test = test_value.reshape(-1, 1)\n",
    "  min_diff = float(\"inf\")\n",
    "  target = -1\n",
    "  for k, pr_matrix in enumerate(numeric_values):\n",
    "    diff = np.linalg.norm(stacked_test - np.matmul(pr_matrix, stacked_test))\n",
    "    if diff < min_diff:\n",
    "     min_diff = diff\n",
    "     target = k\n",
    "  return target\n",
    "\n",
    "y_pred = [find_closest(x, numeric_values) for x in X_test.reshape(X_test.shape[0], -1)]\n",
    "y_pred = np.array(y_pred)\n",
    "\n",
    "acc = accuracy_score(y_test, y_pred)\n",
    "print(\"Test accuracy: \", acc)"
   ]
  },
  {
   "cell_type": "markdown",
   "metadata": {
    "id": "RJ_rqkffzvA7"
   },
   "source": [
    "## Additional task (2 points)\n",
    "In the first task we trained Linear SVM to separate 3s and 8s. Here you can implement multiclass classification for _all_ numbers in `MNIST`. Use the same function LinearSVC for “one-vs-the-rest” multi-class strategy, see [the documentation](https://scikit-learn.org/stable/modules/svm.html#classification).  Follow the same steps from task 1: scaling, feature selection, training and testing. Is the accuracy of this method greater then the one calculated above?"
   ]
  },
  {
   "cell_type": "markdown",
   "metadata": {
    "id": "-4WYoVtR9kWG"
   },
   "source": [
    "**Note:** Use `random_state=42` for `PCA` and `LinearSVC`. Training `LinearSVC` on all the data might take a while, that's normal."
   ]
  },
  {
   "cell_type": "code",
   "execution_count": null,
   "metadata": {
    "colab": {
     "base_uri": "https://localhost:8080/"
    },
    "id": "4Z6lIIKMjiNP",
    "outputId": "9bb3d4e7-96e2-4165-8f66-46b338febf3c"
   },
   "outputs": [],
   "source": [
    "from sklearn.decomposition import PCA\n",
    "from sklearn.svm import LinearSVC\n",
    "from sklearn.preprocessing import StandardScaler\n",
    "\n",
    "# Flatten\n",
    "X_train = X_train.reshape(-1, 784)\n",
    "X_test = X_test.reshape(-1, 784)\n",
    "\n",
    "# Standard Scaler\n",
    "scaler = StandardScaler()\n",
    "X_train = scaler.fit_transform(X_train)\n",
    "X_test = scaler.transform(X_test)\n",
    "\n",
    "# PCA\n",
    "pca = PCA(n_components=0.8, random_state=42)\n",
    "X_train = pca.fit_transform(X_train)\n",
    "X_test = pca.transform(X_test)\n",
    "\n",
    "# LinearSVC\n",
    "clf = LinearSVC(random_state=42)\n",
    "clf.fit(X_train, y_train)\n",
    "\n",
    "# Accuracy\n",
    "y_pred = clf.predict(X_test)\n",
    "acc = (y_pred == y_test).mean()\n",
    "print(\"Accuracy:\", acc)\n"
   ]
  },
  {
   "cell_type": "code",
   "execution_count": null,
   "metadata": {},
   "outputs": [],
   "source": []
  }
 ],
 "metadata": {
  "celltoolbar": "Create Assignment",
  "colab": {
   "provenance": []
  },
  "kernelspec": {
   "display_name": "Python 3",
   "language": "python",
   "name": "python3"
  },
  "language_info": {
   "codemirror_mode": {
    "name": "ipython",
    "version": 3
   },
   "file_extension": ".py",
   "mimetype": "text/x-python",
   "name": "python",
   "nbconvert_exporter": "python",
   "pygments_lexer": "ipython3",
   "version": "3.8.8"
  }
 },
 "nbformat": 4,
 "nbformat_minor": 1
}
